{
  "cells": [
    {
      "cell_type": "code",
      "execution_count": 1,
      "metadata": {
        "id": "m68fs9dVb3LE"
      },
      "outputs": [],
      "source": [
        "import numpy as np\n",
        "import pandas as pd\n",
        "import matplotlib.pyplot as plt"
      ]
    },
    {
      "cell_type": "code",
      "execution_count": 1,
      "metadata": {},
      "outputs": [],
      "source": [
        "import opendatasets\n",
        "\n",
        "# If running this on local set this to true\n",
        "is_local = True \n",
        "\n",
        "if not is_local:\n",
        "    opendatasets.download('https://www.kaggle.com/ttungl/adience-benchmark-gender-and-age-classification')"
      ]
    },
    {
      "cell_type": "code",
      "execution_count": 5,
      "metadata": {
        "colab": {
          "base_uri": "https://localhost:8080/"
        },
        "id": "q6FWwjuWb_8E",
        "outputId": "36354f12-1cbc-4c4e-f909-13fab6e7a7b6"
      },
      "outputs": [
        {
          "name": "stdout",
          "output_type": "stream",
          "text": [
            "Berhasil\n"
          ]
        }
      ],
      "source": [
        "from zipfile import ZipFile\n",
        "file_name = \"./parchive.zip\"\n",
        "\n",
        "with ZipFile(file_name,'r') as zip :\n",
        "  zip.extractall()\n",
        "  print('Berhasil')"
      ]
    },
    {
      "cell_type": "code",
      "execution_count": 15,
      "metadata": {
        "id": "RBFolBnmcUEI"
      },
      "outputs": [],
      "source": [
        "fold0 = pd.read_csv(\"AdienceBenchmarkGenderAndAgeClassification/fold_0_data.txt\" )\n",
        "fold1 = pd.read_csv(\"AdienceBenchmarkGenderAndAgeClassification/fold_1_data.txt\")\n",
        "fold2 = pd.read_csv(\"AdienceBenchmarkGenderAndAgeClassification/fold_2_data.txt\")\n",
        "fold3 = pd.read_csv(\"AdienceBenchmarkGenderAndAgeClassification/fold_3_data.txt\")\n",
        "fold4 = pd.read_csv(\"AdienceBenchmarkGenderAndAgeClassification/fold_4_data.txt\")"
      ]
    },
    {
      "cell_type": "code",
      "execution_count": 16,
      "metadata": {
        "colab": {
          "base_uri": "https://localhost:8080/"
        },
        "id": "nfsOe9_rc61I",
        "outputId": "5b73bcdf-4181-4378-9662-8ece45cc4ef2"
      },
      "outputs": [
        {
          "name": "stdout",
          "output_type": "stream",
          "text": [
            "                                                   user_id\\toriginal_image\\tface_id\\tage\\tgender\\tx\\ty\\tdx\\tdy\\ttilt_ang\\tfiducial_yaw_angle\\tfiducial_score\n",
            "30601258@N03\\t10399646885_67c7d20df9_o.jpg\\t1\\t(25           32)\\tf\\t0\\t414\\t1086\\t1383\\t-115\\t30\\t17                                                       \n",
            "30601258@N03\\t10424815813_e94629b1ec_o.jpg\\t2\\t(25               32)\\tm\\t301\\t105\\t640\\t641\\t0\\t0\\t94                                                       \n",
            "30601258@N03\\t10437979845_5985be4b26_o.jpg\\t1\\t(25          32)\\tf\\t2395\\t876\\t771\\t771\\t175\\t-30\\t74                                                       \n",
            "30601258@N03\\t10437979845_5985be4b26_o.jpg\\t3\\t(25            32)\\tm\\t752\\t1255\\t484\\t485\\t180\\t0\\t47                                                       \n",
            "30601258@N03\\t11816644924_075c3d8d59_o.jpg\\t2\\t(25              32)\\tm\\t175\\t80\\t769\\t768\\t-75\\t0\\t34                                                       \n",
            "...                                                                                               ...                                                       \n",
            "68094148@N04\\t11373794746_4720ac792a_o.jpg\\t478...              32)\\tm\\t664\\t0\\t242\\t211\\t-5\\t-15\\t73                                                       \n",
            "68094148@N04\\t11355711315_0f5b5da125_o.jpg\\t477...               32)\\tf\\t915\\t51\\t109\\t112\\t0\\t45\\t14                                                       \n",
            "10693681@N00\\t9162730346_b1bf71120a_o.jpg\\t479\\...           32)\\tm\\t2145\\t1270\\t249\\t249\\t10\\t30\\t25                                                       \n",
            "113830953@N04\\t11855529986_dff116e018_o.jpg\\t48...                                                NaN                                                       \n",
            "113830953@N04\\t11855531166_90b5b3670d_o.jpg\\t48...                                                NaN                                                       \n",
            "\n",
            "[4484 rows x 1 columns]\n"
          ]
        }
      ],
      "source": [
        "print(fold0)"
      ]
    },
    {
      "cell_type": "code",
      "execution_count": null,
      "metadata": {
        "id": "8WU63EGLdpSs"
      },
      "outputs": [],
      "source": [
        "fold0 = pd.read_csv(\"AdienceBenchmarkGenderAndAgeClassification/fold_0_data.txt\",sep = \"\\t\" )\n",
        "fold1 = pd.read_csv(\"AdienceBenchmarkGenderAndAgeClassification/fold_1_data.txt\",sep = \"\\t\")\n",
        "fold2 = pd.read_csv(\"AdienceBenchmarkGenderAndAgeClassification/fold_2_data.txt\",sep = \"\\t\")\n",
        "fold3 = pd.read_csv(\"AdienceBenchmarkGenderAndAgeClassification/fold_3_data.txt\",sep = \"\\t\")\n",
        "fold4 = pd.read_csv(\"AdienceBenchmarkGenderAndAgeClassification/fold_4_data.txt\",sep = \"\\t\")"
      ]
    },
    {
      "cell_type": "code",
      "execution_count": 17,
      "metadata": {
        "colab": {
          "base_uri": "https://localhost:8080/",
          "height": 132
        },
        "id": "zeardMHSdO6c",
        "outputId": "e53cb691-a0e3-4d38-e152-302241d6e064"
      },
      "outputs": [
        {
          "ename": "SyntaxError",
          "evalue": "ignored",
          "output_type": "error",
          "traceback": [
            "\u001b[0;36m  File \u001b[0;32m\"<ipython-input-17-51d8c4085bfc>\"\u001b[0;36m, line \u001b[0;32m1\u001b[0m\n\u001b[0;31m    saya dapat contoh ni ranlast = 'smith'\u001b[0m\n\u001b[0m             ^\u001b[0m\n\u001b[0;31mSyntaxError\u001b[0m\u001b[0;31m:\u001b[0m invalid syntax\n"
          ]
        }
      ],
      "source": [
        "#aku dapat contoh ni ran buat misahin nya \n",
        "last = 'smith'\n",
        "middle = 'paul'\n",
        "first = 'john'\n",
        "print(first.capitalize(), middle.capitalize(), last.capitalize(), sep='\\t')"
      ]
    },
    {
      "cell_type": "code",
      "execution_count": null,
      "metadata": {
        "id": "L9-3K2UndiXt"
      },
      "outputs": [],
      "source": []
    }
  ],
  "metadata": {
    "colab": {
      "name": "Untitled19.ipynb",
      "provenance": []
    },
    "interpreter": {
      "hash": "7832af48e7ff95db2d0d6dcfcbdb29cb576e465c11955424bc39c58dedef8093"
    },
    "kernelspec": {
      "display_name": "Python 3.8.8 64-bit ('mesin': conda)",
      "name": "python3"
    },
    "language_info": {
      "codemirror_mode": {
        "name": "ipython",
        "version": 3
      },
      "file_extension": ".py",
      "mimetype": "text/x-python",
      "name": "python",
      "nbconvert_exporter": "python",
      "pygments_lexer": "ipython3",
      "version": "3.8.8"
    }
  },
  "nbformat": 4,
  "nbformat_minor": 0
}
