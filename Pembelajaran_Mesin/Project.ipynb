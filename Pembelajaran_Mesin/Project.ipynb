{
  "nbformat": 4,
  "nbformat_minor": 0,
  "metadata": {
    "colab": {
      "name": "Untitled19.ipynb",
      "provenance": []
    },
    "kernelspec": {
      "name": "python3",
      "display_name": "Python 3"
    },
    "language_info": {
      "name": "python"
    }
  },
  "cells": [
    {
      "cell_type": "code",
      "metadata": {
        "id": "m68fs9dVb3LE"
      },
      "source": [
        "import numpy as np\n",
        "import pandas as pd\n",
        "import matplotlib.pyplot as plt\n",
        "import seaborn as sns\n",
        "import cv2\n",
        "from PIL import Image"
      ],
      "execution_count": 1,
      "outputs": []
    },
    {
      "cell_type": "code",
      "metadata": {
        "id": "wUax_nUUb5gd"
      },
      "source": [
        "!mkdir -p ~/.kaggle\n",
        "!cp kaggle.json ~/.kaggle/\n",
        "!chmod 600 ~/.kaggle/kaggle.json"
      ],
      "execution_count": 7,
      "outputs": []
    },
    {
      "cell_type": "code",
      "metadata": {
        "colab": {
          "base_uri": "https://localhost:8080/"
        },
        "id": "BwwTzrQlb9uV",
        "outputId": "13d79a87-3733-4d69-99b3-369f776d0b39"
      },
      "source": [
        "!kaggle datasets download -d ttungl/adience-benchmark-gender-and-age-classification"
      ],
      "execution_count": 8,
      "outputs": [
        {
          "output_type": "stream",
          "name": "stdout",
          "text": [
            "Downloading adience-benchmark-gender-and-age-classification.zip to /content\n",
            "100% 1.38G/1.39G [00:27<00:00, 74.6MB/s]\n",
            "100% 1.39G/1.39G [00:27<00:00, 53.2MB/s]\n"
          ]
        }
      ]
    },
    {
      "cell_type": "code",
      "metadata": {
        "colab": {
          "base_uri": "https://localhost:8080/"
        },
        "id": "q6FWwjuWb_8E",
        "outputId": "36354f12-1cbc-4c4e-f909-13fab6e7a7b6"
      },
      "source": [
        "from zipfile import ZipFile\n",
        "file_name = \"adience-benchmark-gender-and-age-classification.zip\"\n",
        "\n",
        "with ZipFile(file_name,'r') as zip :\n",
        "  zip.extractall()\n",
        "  print('Berhasil')"
      ],
      "execution_count": 9,
      "outputs": [
        {
          "output_type": "stream",
          "name": "stdout",
          "text": [
            "Berhasil\n"
          ]
        }
      ]
    },
    {
      "cell_type": "code",
      "metadata": {
        "id": "RBFolBnmcUEI"
      },
      "source": [
        "fold0 = pd.read_csv(\"AdienceBenchmarkGenderAndAgeClassification/fold_0_data.txt\" )\n",
        "fold1 = pd.read_csv(\"AdienceBenchmarkGenderAndAgeClassification/fold_1_data.txt\")\n",
        "fold2 = pd.read_csv(\"AdienceBenchmarkGenderAndAgeClassification/fold_2_data.txt\")\n",
        "fold3 = pd.read_csv(\"AdienceBenchmarkGenderAndAgeClassification/fold_3_data.txt\")\n",
        "fold4 = pd.read_csv(\"AdienceBenchmarkGenderAndAgeClassification/fold_4_data.txt\")"
      ],
      "execution_count": 15,
      "outputs": []
    },
    {
      "cell_type": "code",
      "metadata": {
        "colab": {
          "base_uri": "https://localhost:8080/"
        },
        "id": "nfsOe9_rc61I",
        "outputId": "5b73bcdf-4181-4378-9662-8ece45cc4ef2"
      },
      "source": [
        "print(fold0)"
      ],
      "execution_count": 16,
      "outputs": [
        {
          "output_type": "stream",
          "name": "stdout",
          "text": [
            "                                                   user_id\\toriginal_image\\tface_id\\tage\\tgender\\tx\\ty\\tdx\\tdy\\ttilt_ang\\tfiducial_yaw_angle\\tfiducial_score\n",
            "30601258@N03\\t10399646885_67c7d20df9_o.jpg\\t1\\t(25           32)\\tf\\t0\\t414\\t1086\\t1383\\t-115\\t30\\t17                                                       \n",
            "30601258@N03\\t10424815813_e94629b1ec_o.jpg\\t2\\t(25               32)\\tm\\t301\\t105\\t640\\t641\\t0\\t0\\t94                                                       \n",
            "30601258@N03\\t10437979845_5985be4b26_o.jpg\\t1\\t(25          32)\\tf\\t2395\\t876\\t771\\t771\\t175\\t-30\\t74                                                       \n",
            "30601258@N03\\t10437979845_5985be4b26_o.jpg\\t3\\t(25            32)\\tm\\t752\\t1255\\t484\\t485\\t180\\t0\\t47                                                       \n",
            "30601258@N03\\t11816644924_075c3d8d59_o.jpg\\t2\\t(25              32)\\tm\\t175\\t80\\t769\\t768\\t-75\\t0\\t34                                                       \n",
            "...                                                                                               ...                                                       \n",
            "68094148@N04\\t11373794746_4720ac792a_o.jpg\\t478...              32)\\tm\\t664\\t0\\t242\\t211\\t-5\\t-15\\t73                                                       \n",
            "68094148@N04\\t11355711315_0f5b5da125_o.jpg\\t477...               32)\\tf\\t915\\t51\\t109\\t112\\t0\\t45\\t14                                                       \n",
            "10693681@N00\\t9162730346_b1bf71120a_o.jpg\\t479\\...           32)\\tm\\t2145\\t1270\\t249\\t249\\t10\\t30\\t25                                                       \n",
            "113830953@N04\\t11855529986_dff116e018_o.jpg\\t48...                                                NaN                                                       \n",
            "113830953@N04\\t11855531166_90b5b3670d_o.jpg\\t48...                                                NaN                                                       \n",
            "\n",
            "[4484 rows x 1 columns]\n"
          ]
        }
      ]
    },
    {
      "cell_type": "code",
      "metadata": {
        "id": "8WU63EGLdpSs"
      },
      "source": [
        "fold0 = pd.read_csv(\"AdienceBenchmarkGenderAndAgeClassification/fold_0_data.txt\",sep = \"\\t\" )\n",
        "fold1 = pd.read_csv(\"AdienceBenchmarkGenderAndAgeClassification/fold_1_data.txt\",sep = \"\\t\")\n",
        "fold2 = pd.read_csv(\"AdienceBenchmarkGenderAndAgeClassification/fold_2_data.txt\",sep = \"\\t\")\n",
        "fold3 = pd.read_csv(\"AdienceBenchmarkGenderAndAgeClassification/fold_3_data.txt\",sep = \"\\t\")\n",
        "fold4 = pd.read_csv(\"AdienceBenchmarkGenderAndAgeClassification/fold_4_data.txt\",sep = \"\\t\")"
      ],
      "execution_count": null,
      "outputs": []
    },
    {
      "cell_type": "code",
      "metadata": {
        "colab": {
          "base_uri": "https://localhost:8080/",
          "height": 132
        },
        "id": "zeardMHSdO6c",
        "outputId": "e53cb691-a0e3-4d38-e152-302241d6e064"
      },
      "source": [
        "#aku dapat contoh ni ran buat misahin nya \n",
        "last = 'smith'\n",
        "middle = 'paul'\n",
        "first = 'john'\n",
        "print(first.capitalize(), middle.capitalize(), last.capitalize(), sep='\\t')"
      ],
      "execution_count": 17,
      "outputs": [
        {
          "output_type": "error",
          "ename": "SyntaxError",
          "evalue": "ignored",
          "traceback": [
            "\u001b[0;36m  File \u001b[0;32m\"<ipython-input-17-51d8c4085bfc>\"\u001b[0;36m, line \u001b[0;32m1\u001b[0m\n\u001b[0;31m    saya dapat contoh ni ranlast = 'smith'\u001b[0m\n\u001b[0m             ^\u001b[0m\n\u001b[0;31mSyntaxError\u001b[0m\u001b[0;31m:\u001b[0m invalid syntax\n"
          ]
        }
      ]
    },
    {
      "cell_type": "code",
      "metadata": {
        "id": "L9-3K2UndiXt"
      },
      "source": [
        ""
      ],
      "execution_count": null,
      "outputs": []
    }
  ]
}